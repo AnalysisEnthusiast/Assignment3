{
  "nbformat": 4,
  "nbformat_minor": 0,
  "metadata": {
    "colab": {
      "provenance": []
    },
    "kernelspec": {
      "name": "python3",
      "display_name": "Python 3"
    },
    "language_info": {
      "name": "python"
    }
  },
  "cells": [
    {
      "cell_type": "markdown",
      "source": [
        "## Question 1 - Part two:\n",
        "\n",
        "An unverted CNN - the number of filters in each layer decreases as the depth of the network grows"
      ],
      "metadata": {
        "id": "JDkmT4PhJj-2"
      }
    },
    {
      "cell_type": "code",
      "source": [
        "# Load the TensorBoard notebook extension.\n",
        "%load_ext tensorboard\n",
        "\n",
        "from datetime import datetime\n",
        "from packaging import version\n",
        "\n",
        "import tensorflow as tf\n",
        "from tensorflow import keras\n",
        "\n",
        "import tensorboard\n",
        "import matplotlib.pyplot as plt\n",
        "\n",
        "import numpy as np\n",
        "\n",
        "(trainX, trainY), (testX, testY) = keras.datasets.mnist.load_data()\n",
        "trainX = trainX / 255.0\n",
        "testX = testX / 255.0\n",
        "\n",
        "print(\"\\nFor instance, inout[0] belongs to the\",trainY[0],\"th category! As shown below:\")\n",
        "tf.keras.utils.to_categorical(trainY)[0]  "
      ],
      "metadata": {
        "id": "a4pcEcrXJkjk"
      },
      "execution_count": null,
      "outputs": []
    },
    {
      "cell_type": "code",
      "execution_count": null,
      "metadata": {
        "id": "4JJF6MANJf66"
      },
      "outputs": [],
      "source": [
        "# Sequential Model\n",
        "model = keras.models.Sequential([\n",
        "    keras.layers.Conv2D(250, kernel_size=(5, 5), activation='relu', input_shape=(28, 28,1)),\n",
        "    keras.layers.Conv2D(128, (5, 5), activation='relu'),\n",
        "    keras.layers.Conv2D(64, (3, 3), activation='sigmoid'),\n",
        "    keras.layers.Conv2D(32, (3, 3), activation='relu'),\n",
        "    keras.layers.Conv2D(16, (3, 3), activation='sigmoid'),\n",
        "    keras.layers.Conv2D(8, (1, 1), activation='sigmoid'),\n",
        "    keras.layers.Conv2D(4, (3, 3), activation='relu'),\n",
        "    keras.layers.Flatten(),\n",
        "    keras.layers.Dense(2, activation='sigmoid'),\n",
        "    keras.layers.Dense(10, activation='softmax')\n",
        "    ])\n",
        "\n",
        "model.compile(\n",
        "    optimizer='adam',\n",
        "    loss='sparse_categorical_crossentropy',\n",
        "    metrics=['accuracy'])\n",
        "\n",
        "model.summary()"
      ]
    },
    {
      "cell_type": "code",
      "source": [
        "# Define the Keras TensorBoard callback.\n",
        "logdir=\"logs/fit/\" + datetime.now().strftime(\"%Y%m%d-%H%M%S\")\n",
        "tensorboard_callback = keras.callbacks.TensorBoard(log_dir=logdir)\n",
        "\n",
        "# Train the model.\n",
        "model.fit(\n",
        "    trainX,\n",
        "    trainY, \n",
        "    batch_size=128,\n",
        "    epochs=10, \n",
        "    callbacks=[tensorboard_callback])"
      ],
      "metadata": {
        "id": "FkzxQ9JrJsBL"
      },
      "execution_count": null,
      "outputs": []
    },
    {
      "cell_type": "code",
      "source": [
        "%tensorboard --logdir logs"
      ],
      "metadata": {
        "id": "LMkr91OzJutr"
      },
      "execution_count": null,
      "outputs": []
    },
    {
      "cell_type": "code",
      "source": [
        "# Evaluate\n",
        "score = model.evaluate(testX, testY)\n",
        "print('Test loss:', score[0])\n",
        "print('Test accuracy:', score[1])"
      ],
      "metadata": {
        "id": "VJBwwiy0JxDD"
      },
      "execution_count": null,
      "outputs": []
    }
  ]
}